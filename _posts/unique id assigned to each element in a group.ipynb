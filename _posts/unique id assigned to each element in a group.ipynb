{
 "cells": [
  {
   "cell_type": "markdown",
   "metadata": {},
   "source": [
    "### Assign an id that is unique to each element in a group"
   ]
  },
  {
   "cell_type": "code",
   "execution_count": 3,
   "metadata": {},
   "outputs": [],
   "source": [
    "import pandas as pd"
   ]
  },
  {
   "cell_type": "code",
   "execution_count": 4,
   "metadata": {},
   "outputs": [
    {
     "name": "stdout",
     "output_type": "stream",
     "text": [
      "    A\n",
      "0   1\n",
      "1   1\n",
      "2   1\n",
      "3   2\n",
      "4   2\n",
      "5   2\n",
      "6   1\n",
      "7   3\n",
      "8   2\n",
      "9   3\n",
      "10  3\n"
     ]
    }
   ],
   "source": [
    "dataset=pd.DataFrame({'A': [1, 1, 1,2,2,2,1,3,2,3,3]})\n",
    "print(dataset)"
   ]
  },
  {
   "cell_type": "code",
   "execution_count": 5,
   "metadata": {},
   "outputs": [
    {
     "name": "stdout",
     "output_type": "stream",
     "text": [
      "    A  id\n",
      "0   1   0\n",
      "1   1   1\n",
      "2   1   2\n",
      "3   2   0\n",
      "4   2   1\n",
      "5   2   2\n",
      "6   1   3\n",
      "7   3   0\n",
      "8   2   3\n",
      "9   3   1\n",
      "10  3   2\n"
     ]
    }
   ],
   "source": [
    "dataset['id']=dataset.groupby('A').cumcount()\n",
    "print(dataset)"
   ]
  },
  {
   "cell_type": "markdown",
   "metadata": {},
   "source": [
    "Note that the values contained in column 'A' do not need to be sorted prior to applying this function."
   ]
  }
 ],
 "metadata": {
  "kernelspec": {
   "display_name": "Python 3",
   "language": "python",
   "name": "python3"
  },
  "language_info": {
   "codemirror_mode": {
    "name": "ipython",
    "version": 3
   },
   "file_extension": ".py",
   "mimetype": "text/x-python",
   "name": "python",
   "nbconvert_exporter": "python",
   "pygments_lexer": "ipython3",
   "version": "3.7.4"
  }
 },
 "nbformat": 4,
 "nbformat_minor": 2
}
