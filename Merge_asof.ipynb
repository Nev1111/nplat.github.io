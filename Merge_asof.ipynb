{
 "cells": [
  {
   "cell_type": "markdown",
   "metadata": {},
   "source": [
    "## The \"As of merge\" problem\n"
   ]
  },
  {
   "cell_type": "markdown",
   "metadata": {},
   "source": [
    "\"As of merge\" (match on less than, greater than, nearest elements between two data sets)\n",
    "While it is popular to join datasets using a \"left\" or a \"right\" join, the examples below illustrate how to perform a merge based on the \"nearest\" or the \"closest\" matching key value, as opposed to the exact equal key. Consider the following data sets as an example:\n"
   ]
  },
  {
   "cell_type": "code",
   "execution_count": 36,
   "metadata": {},
   "outputs": [
    {
     "name": "stdout",
     "output_type": "stream",
     "text": [
      "   key_column A_val_date\n",
      "0           1 2015-01-01\n",
      "1           5 2019-05-22\n",
      "2          10 2020-03-03\n",
      "3           9 2010-06-08\n",
      "4           7 2009-02-21\n",
      "   key_column B_val_date\n",
      "0           1 2013-02-24\n",
      "1           3 2014-03-16\n",
      "2           4 2009-01-09\n",
      "3           6 2016-02-27\n",
      "4           8 2014-05-01\n",
      "5           9 2012-03-09\n"
     ]
    }
   ],
   "source": [
    "#Create the sample dataframes \n",
    "import pandas as pd\n",
    "data_set_A = pd.DataFrame({'key_column': [1, 5, 10,9,7], 'A_val_date': ['1/1/2015', '5/22/2019', '3/3/2020','6/8/2010','2/21/2009']})\n",
    "data_set_B = pd.DataFrame({'key_column': [1,3,4,6,8,9], 'B_val_date': ['2/24/2013', '3/16/2014','1/09/2009','2/27/2016','5/1/2014','3/9/2012']})\n",
    "\n",
    "#convert the values in 'A_val' and 'B_val' to datetime objects\n",
    "data_set_A['A_val_date']=pd.to_datetime(data_set_A['A_val_date'])\n",
    "data_set_B['B_val_date']=pd.to_datetime(data_set_B['B_val_date'])\n",
    "\n",
    "#display the dataframes\n",
    "print (data_set_A)\n",
    "print (data_set_B)\n"
   ]
  },
  {
   "cell_type": "markdown",
   "metadata": {},
   "source": [
    "The goal is to merge the values contained in data_set_A with values contained in data_set_B over the column that they share in common, 'key_column'.  The resulting dataset should contain all rows contained in data_set_A and only those rows from data_set_B that correspond to the values in data_set_A, but if there is no exact match, we want to select the last row in data_set_B whose 'key_column' is less than the 'key_column' value in data_set_A,  knows as a \"backward\" search."
   ]
  },
  {
   "cell_type": "code",
   "execution_count": 37,
   "metadata": {},
   "outputs": [],
   "source": [
    "# First, sort the values contained in 'A_val' and 'B_val' by ascending order\n",
    "data_set_A=data_set_A.sort_values(by='key_column')\n",
    "data_set_B=data_set_B.sort_values(by='key_column')"
   ]
  },
  {
   "cell_type": "code",
   "execution_count": 38,
   "metadata": {},
   "outputs": [
    {
     "name": "stdout",
     "output_type": "stream",
     "text": [
      "   key_column A_val_date B_val_date\n",
      "0           1 2015-01-01 2013-02-24\n",
      "1           5 2019-05-22 2009-01-09\n",
      "2           7 2009-02-21 2016-02-27\n",
      "3           9 2010-06-08 2012-03-09\n",
      "4          10 2020-03-03 2012-03-09\n"
     ]
    }
   ],
   "source": [
    "resulting_data_set=pd.merge_asof(data_set_A,data_set_B,on='key_column')\n",
    "print(resulting_data_set)"
   ]
  },
  {
   "cell_type": "markdown",
   "metadata": {},
   "source": [
    "As expected, the first row had an exact match in its 'key_column', '1', so the dates 2015-01-01 and 2013-01-24 were matched up. The next row, with a value of '5' under the 'key_column' in data_set_A did not have a matching value in data_set_B, so the closest value in data_set_B with a 'key_column' value less than '5' is the row with a 'key_column' value of '4' and a corresponding date value 2009-01-09."
   ]
  },
  {
   "cell_type": "markdown",
   "metadata": {},
   "source": [
    "This type of a merge can also be performed on a 'forward' basis, where the first row of the second data set is selected whose values contained in the 'key_column' are greater than or equal to the values in the 'key_column' in the first data set.\n",
    "Note: The default direction for this type of search is 'backward', if the merge is to be performed on a 'forward' basis, the 'direction' parameter 'forward' needs to be added to the 'merge_asof' command.  See example below."
   ]
  },
  {
   "cell_type": "code",
   "execution_count": 39,
   "metadata": {},
   "outputs": [
    {
     "name": "stdout",
     "output_type": "stream",
     "text": [
      "   key_column A_val_date B_val_date\n",
      "0           1 2015-01-01 2013-02-24\n",
      "1           5 2019-05-22 2016-02-27\n",
      "2           7 2009-02-21 2014-05-01\n",
      "3           9 2010-06-08 2012-03-09\n",
      "4          10 2020-03-03        NaT\n"
     ]
    }
   ],
   "source": [
    "resulting_data_set=pd.merge_asof(data_set_A,data_set_B,on='key_column',direction='forward')\n",
    "print(resulting_data_set)"
   ]
  },
  {
   "cell_type": "markdown",
   "metadata": {},
   "source": [
    "Note: the last row has a 'NaT' mathing value, because the value '10' in the 'key_column' contained in data_set_A does not have an equal or a greater corresponding 'key_column' value in 'data_set_B'. "
   ]
  },
  {
   "cell_type": "markdown",
   "metadata": {},
   "source": [
    "To perform a merge on a 'nearest' basis, the 'direction' paramenter needs to be set to 'nearest'.  See results below:"
   ]
  },
  {
   "cell_type": "code",
   "execution_count": 40,
   "metadata": {},
   "outputs": [
    {
     "name": "stdout",
     "output_type": "stream",
     "text": [
      "   key_column A_val_date B_val_date\n",
      "0           1 2015-01-01 2013-02-24\n",
      "1           5 2019-05-22 2009-01-09\n",
      "2           7 2009-02-21 2016-02-27\n",
      "3           9 2010-06-08 2012-03-09\n",
      "4          10 2020-03-03 2012-03-09\n"
     ]
    }
   ],
   "source": [
    "resulting_data_set=pd.merge_asof(data_set_A,data_set_B,on='key_column',direction='nearest')\n",
    "print(resulting_data_set)"
   ]
  },
  {
   "cell_type": "markdown",
   "metadata": {},
   "source": [
    "This method is also explained in Pandas' documentation\n",
    "https://pandas.pydata.org/pandas-docs/stable/reference/api/pandas.merge_asof.html"
   ]
  }
 ],
 "metadata": {
  "kernelspec": {
   "display_name": "Python 3",
   "language": "python",
   "name": "python3"
  },
  "language_info": {
   "codemirror_mode": {
    "name": "ipython",
    "version": 3
   },
   "file_extension": ".py",
   "mimetype": "text/x-python",
   "name": "python",
   "nbconvert_exporter": "python",
   "pygments_lexer": "ipython3",
   "version": "3.7.4"
  }
 },
 "nbformat": 4,
 "nbformat_minor": 2
}
